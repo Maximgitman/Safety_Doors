{
 "cells": [
  {
   "cell_type": "code",
   "execution_count": 276,
   "metadata": {},
   "outputs": [],
   "source": [
    "import numpy as np\n",
    "import open3d as o3d\n",
    "import os\n",
    "import zipfile\n",
    "\n",
    "from sklearn.neighbors import NearestNeighbors"
   ]
  },
  {
   "cell_type": "code",
   "execution_count": 8,
   "metadata": {},
   "outputs": [],
   "source": [
    "filelist = os.listdir(\"safaty_doors/tof_photo/\")"
   ]
  },
  {
   "cell_type": "code",
   "execution_count": 165,
   "metadata": {},
   "outputs": [
    {
     "name": "stdout",
     "output_type": "stream",
     "text": [
      "Load a ply point cloud, print it, and render it\n"
     ]
    }
   ],
   "source": [
    "print(\"Load a ply point cloud, print it, and render it\")\n",
    "for i in range(20):\n",
    "    pcd = o3d.io.read_point_cloud(\"safaty_doors/tof_photo/\" + filelist[i])\n",
    "    #print(pcd)\n",
    "    #print(np.asarray(pcd.points))\n",
    "    o3d.visualization.draw_geometries([pcd])"
   ]
  },
  {
   "cell_type": "code",
   "execution_count": 220,
   "metadata": {},
   "outputs": [
    {
     "name": "stdout",
     "output_type": "stream",
     "text": [
      "(228588, 3)\n"
     ]
    }
   ],
   "source": [
    "#pcd = o3d.io.read_point_cloud(\"safaty_doors/tof_photo/\" + filelist[0])\n",
    "pcd = o3d.io.read_point_cloud(\"point_cloud_gt/clouds_tof/cloud_0_0065.pcd\")\n",
    "data = np.asarray(pcd.points)\n",
    "print(data.shape)\n",
    "pcd1 = o3d.geometry.PointCloud()\n",
    "pcd1.points = o3d.utility.Vector3dVector(pcd.points)\n",
    "o3d.visualization.draw_geometries([pcd])"
   ]
  },
  {
   "cell_type": "code",
   "execution_count": 215,
   "metadata": {},
   "outputs": [],
   "source": [
    "def least_squares(points):\n",
    "   \"\"\"\n",
    "   Функция для аппроксимации массива точек прямой, основанная на\n",
    "   методе наименьших квадратов.\n",
    "\n",
    "   :param points: Входной массив точек формы [N, 2]\n",
    "   :return: Numpy массив формы [N, 2] точек на прямой\n",
    "   \"\"\"\n",
    "\n",
    "   x = points[:, 0]\n",
    "   y = points[:, 1]\n",
    "   # Для метода наименьших квадратов нам нужно, чтобы X был матрицей,\n",
    "   # в которой первый столбец - единицы, а второй - x координаты точек\n",
    "   X = np.vstack((np.ones(x.shape[0]), x)).T\n",
    "   normal_matrix = np.dot(X.T, X)\n",
    "   moment_matrix = np.dot(X.T, y)\n",
    "   # beta_hat это вектор [перехват, наклон], рассчитываем его в\n",
    "   # в соответствии с формулой.\n",
    "   beta_hat = np.dot(np.linalg.inv(normal_matrix), moment_matrix)\n",
    "   intercept = beta_hat[0]\n",
    "   slope = beta_hat[1]\n",
    "   # Теперь, когда мы знаем параметры прямой, мы можем\n",
    "   # легко вычислить y координаты точек на прямой.\n",
    "   y_hat = intercept + slope * x\n",
    "   # Соберем x и y в единую матрицу, которую мы собираемся вернуть\n",
    "   # в качестве результата.\n",
    "   points_hat = np.vstack((x, y_hat)).T\n",
    "\n",
    "   return points_hat"
   ]
  },
  {
   "cell_type": "code",
   "execution_count": 213,
   "metadata": {},
   "outputs": [],
   "source": [
    "new_data = data[data[:,2]>5.8]\n",
    "new_data[:,:2].shape\n",
    "pcd1 = o3d.geometry.PointCloud()\n",
    "pcd1.points = o3d.utility.Vector3dVector(new_data)\n",
    "o3d.visualization.draw_geometries([pcd1])"
   ]
  },
  {
   "cell_type": "code",
   "execution_count": 197,
   "metadata": {},
   "outputs": [
    {
     "data": {
      "text/plain": [
       "array([[ 0.147     , -0.30599999,  5.9150004 ],\n",
       "       [ 0.69599998, -0.30000001,  5.8222504 ],\n",
       "       [-0.43799999, -0.29699999,  5.8930001 ],\n",
       "       [-0.22500001, -0.264     ,  6.6995001 ],\n",
       "       [-0.222     , -0.264     ,  6.5702505 ],\n",
       "       [-0.58499998, -0.255     ,  6.2972503 ],\n",
       "       [ 0.94200003, -0.252     ,  6.0052505 ],\n",
       "       [ 0.093     , -0.23100001,  7.0100002 ]])"
      ]
     },
     "execution_count": 197,
     "metadata": {},
     "output_type": "execute_result"
    }
   ],
   "source": [
    "new_data"
   ]
  },
  {
   "cell_type": "code",
   "execution_count": 212,
   "metadata": {},
   "outputs": [
    {
     "ename": "LinAlgError",
     "evalue": "Singular matrix",
     "output_type": "error",
     "traceback": [
      "\u001b[1;31m---------------------------------------------------------------------------\u001b[0m",
      "\u001b[1;31mLinAlgError\u001b[0m                               Traceback (most recent call last)",
      "\u001b[1;32m<ipython-input-212-a623f8d9304f>\u001b[0m in \u001b[0;36m<module>\u001b[1;34m\u001b[0m\n\u001b[1;32m----> 1\u001b[1;33m \u001b[0my\u001b[0m \u001b[1;33m=\u001b[0m \u001b[0mleast_squares\u001b[0m\u001b[1;33m(\u001b[0m\u001b[0mnew_data\u001b[0m\u001b[1;33m[\u001b[0m\u001b[1;33m:\u001b[0m\u001b[1;33m,\u001b[0m\u001b[1;33m:\u001b[0m\u001b[1;36m2\u001b[0m\u001b[1;33m]\u001b[0m\u001b[1;33m)\u001b[0m\u001b[1;33m\u001b[0m\u001b[1;33m\u001b[0m\u001b[0m\n\u001b[0m",
      "\u001b[1;32m<ipython-input-210-9c915994f3d5>\u001b[0m in \u001b[0;36mleast_squares\u001b[1;34m(points)\u001b[0m\n\u001b[0;32m     17\u001b[0m    \u001b[1;31m# beta_hat это вектор [перехват, наклон], рассчитываем его в\u001b[0m\u001b[1;33m\u001b[0m\u001b[1;33m\u001b[0m\u001b[1;33m\u001b[0m\u001b[0m\n\u001b[0;32m     18\u001b[0m    \u001b[1;31m# в соответствии с формулой.\u001b[0m\u001b[1;33m\u001b[0m\u001b[1;33m\u001b[0m\u001b[1;33m\u001b[0m\u001b[0m\n\u001b[1;32m---> 19\u001b[1;33m    \u001b[0mbeta_hat\u001b[0m \u001b[1;33m=\u001b[0m \u001b[0mnp\u001b[0m\u001b[1;33m.\u001b[0m\u001b[0mdot\u001b[0m\u001b[1;33m(\u001b[0m\u001b[0mnp\u001b[0m\u001b[1;33m.\u001b[0m\u001b[0mlinalg\u001b[0m\u001b[1;33m.\u001b[0m\u001b[0minv\u001b[0m\u001b[1;33m(\u001b[0m\u001b[0mnormal_matrix\u001b[0m\u001b[1;33m)\u001b[0m\u001b[1;33m,\u001b[0m \u001b[0mmoment_matrix\u001b[0m\u001b[1;33m)\u001b[0m\u001b[1;33m\u001b[0m\u001b[1;33m\u001b[0m\u001b[0m\n\u001b[0m\u001b[0;32m     20\u001b[0m    \u001b[0mintercept\u001b[0m \u001b[1;33m=\u001b[0m \u001b[0mbeta_hat\u001b[0m\u001b[1;33m[\u001b[0m\u001b[1;36m0\u001b[0m\u001b[1;33m]\u001b[0m\u001b[1;33m\u001b[0m\u001b[1;33m\u001b[0m\u001b[0m\n\u001b[0;32m     21\u001b[0m    \u001b[0mslope\u001b[0m \u001b[1;33m=\u001b[0m \u001b[0mbeta_hat\u001b[0m\u001b[1;33m[\u001b[0m\u001b[1;36m1\u001b[0m\u001b[1;33m]\u001b[0m\u001b[1;33m\u001b[0m\u001b[1;33m\u001b[0m\u001b[0m\n",
      "\u001b[1;32m<__array_function__ internals>\u001b[0m in \u001b[0;36minv\u001b[1;34m(*args, **kwargs)\u001b[0m\n",
      "\u001b[1;32m~\\anaconda3\\lib\\site-packages\\numpy\\linalg\\linalg.py\u001b[0m in \u001b[0;36minv\u001b[1;34m(a)\u001b[0m\n\u001b[0;32m    545\u001b[0m     \u001b[0msignature\u001b[0m \u001b[1;33m=\u001b[0m \u001b[1;34m'D->D'\u001b[0m \u001b[1;32mif\u001b[0m \u001b[0misComplexType\u001b[0m\u001b[1;33m(\u001b[0m\u001b[0mt\u001b[0m\u001b[1;33m)\u001b[0m \u001b[1;32melse\u001b[0m \u001b[1;34m'd->d'\u001b[0m\u001b[1;33m\u001b[0m\u001b[1;33m\u001b[0m\u001b[0m\n\u001b[0;32m    546\u001b[0m     \u001b[0mextobj\u001b[0m \u001b[1;33m=\u001b[0m \u001b[0mget_linalg_error_extobj\u001b[0m\u001b[1;33m(\u001b[0m\u001b[0m_raise_linalgerror_singular\u001b[0m\u001b[1;33m)\u001b[0m\u001b[1;33m\u001b[0m\u001b[1;33m\u001b[0m\u001b[0m\n\u001b[1;32m--> 547\u001b[1;33m     \u001b[0mainv\u001b[0m \u001b[1;33m=\u001b[0m \u001b[0m_umath_linalg\u001b[0m\u001b[1;33m.\u001b[0m\u001b[0minv\u001b[0m\u001b[1;33m(\u001b[0m\u001b[0ma\u001b[0m\u001b[1;33m,\u001b[0m \u001b[0msignature\u001b[0m\u001b[1;33m=\u001b[0m\u001b[0msignature\u001b[0m\u001b[1;33m,\u001b[0m \u001b[0mextobj\u001b[0m\u001b[1;33m=\u001b[0m\u001b[0mextobj\u001b[0m\u001b[1;33m)\u001b[0m\u001b[1;33m\u001b[0m\u001b[1;33m\u001b[0m\u001b[0m\n\u001b[0m\u001b[0;32m    548\u001b[0m     \u001b[1;32mreturn\u001b[0m \u001b[0mwrap\u001b[0m\u001b[1;33m(\u001b[0m\u001b[0mainv\u001b[0m\u001b[1;33m.\u001b[0m\u001b[0mastype\u001b[0m\u001b[1;33m(\u001b[0m\u001b[0mresult_t\u001b[0m\u001b[1;33m,\u001b[0m \u001b[0mcopy\u001b[0m\u001b[1;33m=\u001b[0m\u001b[1;32mFalse\u001b[0m\u001b[1;33m)\u001b[0m\u001b[1;33m)\u001b[0m\u001b[1;33m\u001b[0m\u001b[1;33m\u001b[0m\u001b[0m\n\u001b[0;32m    549\u001b[0m \u001b[1;33m\u001b[0m\u001b[0m\n",
      "\u001b[1;32m~\\anaconda3\\lib\\site-packages\\numpy\\linalg\\linalg.py\u001b[0m in \u001b[0;36m_raise_linalgerror_singular\u001b[1;34m(err, flag)\u001b[0m\n\u001b[0;32m     95\u001b[0m \u001b[1;33m\u001b[0m\u001b[0m\n\u001b[0;32m     96\u001b[0m \u001b[1;32mdef\u001b[0m \u001b[0m_raise_linalgerror_singular\u001b[0m\u001b[1;33m(\u001b[0m\u001b[0merr\u001b[0m\u001b[1;33m,\u001b[0m \u001b[0mflag\u001b[0m\u001b[1;33m)\u001b[0m\u001b[1;33m:\u001b[0m\u001b[1;33m\u001b[0m\u001b[1;33m\u001b[0m\u001b[0m\n\u001b[1;32m---> 97\u001b[1;33m     \u001b[1;32mraise\u001b[0m \u001b[0mLinAlgError\u001b[0m\u001b[1;33m(\u001b[0m\u001b[1;34m\"Singular matrix\"\u001b[0m\u001b[1;33m)\u001b[0m\u001b[1;33m\u001b[0m\u001b[1;33m\u001b[0m\u001b[0m\n\u001b[0m\u001b[0;32m     98\u001b[0m \u001b[1;33m\u001b[0m\u001b[0m\n\u001b[0;32m     99\u001b[0m \u001b[1;32mdef\u001b[0m \u001b[0m_raise_linalgerror_nonposdef\u001b[0m\u001b[1;33m(\u001b[0m\u001b[0merr\u001b[0m\u001b[1;33m,\u001b[0m \u001b[0mflag\u001b[0m\u001b[1;33m)\u001b[0m\u001b[1;33m:\u001b[0m\u001b[1;33m\u001b[0m\u001b[1;33m\u001b[0m\u001b[0m\n",
      "\u001b[1;31mLinAlgError\u001b[0m: Singular matrix"
     ]
    }
   ],
   "source": [
    "y = least_squares(new_data[:,:2])"
   ]
  },
  {
   "cell_type": "code",
   "execution_count": 199,
   "metadata": {},
   "outputs": [
    {
     "name": "stdout",
     "output_type": "stream",
     "text": [
      "Уравнение прямой, проходящей через эти точки:\n",
      " y = -0.00*x + -0.27\n"
     ]
    }
   ],
   "source": [
    "print(\"Уравнение прямой, проходящей через эти точки:\")\n",
    "k = (y[0][1] - y[-1][1]) / (y[0][0] - y[-1][0])\n",
    "b = y[-1][1] - k*y[-1][0]\n",
    "print(\" y = %.2f*x + %.2f\" % (k, b))"
   ]
  },
  {
   "cell_type": "code",
   "execution_count": 335,
   "metadata": {},
   "outputs": [
    {
     "ename": "KeyboardInterrupt",
     "evalue": "",
     "output_type": "error",
     "traceback": [
      "\u001b[1;31m---------------------------------------------------------------------------\u001b[0m",
      "\u001b[1;31mKeyboardInterrupt\u001b[0m                         Traceback (most recent call last)",
      "\u001b[1;32m<ipython-input-335-b625607b89ed>\u001b[0m in \u001b[0;36m<module>\u001b[1;34m\u001b[0m\n\u001b[0;32m     45\u001b[0m     \u001b[1;31m#pcd1 = o3d.geometry.PointCloud()\u001b[0m\u001b[1;33m\u001b[0m\u001b[1;33m\u001b[0m\u001b[1;33m\u001b[0m\u001b[0m\n\u001b[0;32m     46\u001b[0m     \u001b[1;31m#pcd1.points = o3d.utility.Vector3dVector(data)\u001b[0m\u001b[1;33m\u001b[0m\u001b[1;33m\u001b[0m\u001b[1;33m\u001b[0m\u001b[0m\n\u001b[1;32m---> 47\u001b[1;33m     \u001b[0mo3d\u001b[0m\u001b[1;33m.\u001b[0m\u001b[0mvisualization\u001b[0m\u001b[1;33m.\u001b[0m\u001b[0mdraw_geometries\u001b[0m\u001b[1;33m(\u001b[0m\u001b[1;33m[\u001b[0m\u001b[0mpcd\u001b[0m\u001b[1;33m,\u001b[0m \u001b[0mmesh_box1\u001b[0m\u001b[1;33m,\u001b[0m \u001b[0mmesh_box2\u001b[0m\u001b[1;33m,\u001b[0m\u001b[0mmesh_box3\u001b[0m\u001b[1;33m]\u001b[0m\u001b[1;33m)\u001b[0m\u001b[1;33m\u001b[0m\u001b[1;33m\u001b[0m\u001b[0m\n\u001b[0m\u001b[0;32m     48\u001b[0m     \u001b[1;31m#o3d.visualization.draw_geometries([mesh_box])\u001b[0m\u001b[1;33m\u001b[0m\u001b[1;33m\u001b[0m\u001b[1;33m\u001b[0m\u001b[0m\n",
      "\u001b[1;31mKeyboardInterrupt\u001b[0m: "
     ]
    }
   ],
   "source": [
    "lstfile = os.listdir(\"point_cloud_gt/clouds_tof\")\n",
    "for i,f in enumerate(lstfile):\n",
    "    pcd = o3d.io.read_point_cloud(\"point_cloud_gt/clouds_tof/\"+f)\n",
    "    pcd_colors = np.asarray(pcd.colors)\n",
    "    pcd_points = np.asarray(pcd.points)\n",
    "    neigh = NearestNeighbors(n_neighbors=2, radius=0.4)\n",
    "    neigh.fit(pcd_points)\n",
    "    distances, indices = neigh.kneighbors(pcd_points)\n",
    "    distances = distances[:,1].reshape((pcd_points.shape[0]))\n",
    "    pcd_points = pcd_points[distances < 0.01]\n",
    "    pcd.points = o3d.utility.Vector3dVector(pcd_points)\n",
    "    \n",
    "    \n",
    "    mesh_box1 = o3d.geometry.TriangleMesh.create_box(width=2,\n",
    "                                                    height=.005,\n",
    "                                                    depth=4).translate((-1, -0.22, 2))\n",
    "\n",
    "    R = mesh_box1.get_rotation_matrix_from_xyz((0.0, 0.0,0.01))\n",
    "    mesh_box1.rotate(R, center=(-1, -0.22, 3))\n",
    "\n",
    "    mesh_box2 = o3d.geometry.TriangleMesh.create_box(width=2,\n",
    "                                                    height=.005,\n",
    "                                                    depth=1.5).translate((-1, -0.36, 4.5))\n",
    "\n",
    "    R = mesh_box2.get_rotation_matrix_from_xyz((-0.07, 0, 0))\n",
    "    mesh_box2.rotate(R, center=(-1, -0.36, 3)).translate((0, -0.08, 0))\n",
    "\n",
    "    \n",
    "    mesh_box3 = o3d.geometry.TriangleMesh.create_box(width=2,\n",
    "                                                    height=.005,\n",
    "                                                    depth=2.5).translate((-1, -0.36, 1.5))\n",
    "\n",
    "    R = mesh_box3.get_rotation_matrix_from_xyz((-0.15, 0, 0))\n",
    "    mesh_box3.rotate(R, center=(-1, -0.36, 3)).translate((0, -0.125, 0.51))\n",
    "    \n",
    "\n",
    "    mesh_box1.compute_vertex_normals()\n",
    "    mesh_box1.paint_uniform_color([0.4, 0.1, 0.1])\n",
    "\n",
    "    mesh_box2.compute_vertex_normals()\n",
    "    mesh_box2.paint_uniform_color([0.4, 0.1, 0.1])\n",
    "\n",
    "    mesh_box3.compute_vertex_normals()\n",
    "    mesh_box3.paint_uniform_color([0.4, 0.1, 0.1])\n",
    "    #pcd1 = o3d.geometry.PointCloud()\n",
    "    #pcd1.points = o3d.utility.Vector3dVector(data)\n",
    "    o3d.visualization.draw_geometries([pcd, mesh_box1, mesh_box2,mesh_box3])\n",
    "    #o3d.visualization.draw_geometries([mesh_box])"
   ]
  },
  {
   "cell_type": "code",
   "execution_count": 269,
   "metadata": {},
   "outputs": [
    {
     "name": "stdout",
     "output_type": "stream",
     "text": [
      "(193877, 3)\n"
     ]
    }
   ],
   "source": [
    "pcd = o3d.io.read_point_cloud(\"point_cloud_gt/clouds_tof/cloud_0_0003.pcd\")\n",
    "data = np.asarray(pcd.points)\n",
    "print(data.shape)\n",
    "pcd1 = o3d.geometry.PointCloud()\n",
    "pcd1.points = o3d.utility.Vector3dVector(pcd.points)\n",
    "o3d.visualization.draw_geometries([pcd])"
   ]
  },
  {
   "cell_type": "code",
   "execution_count": null,
   "metadata": {},
   "outputs": [],
   "source": []
  }
 ],
 "metadata": {
  "kernelspec": {
   "display_name": "Python 3",
   "language": "python",
   "name": "python3"
  },
  "language_info": {
   "codemirror_mode": {
    "name": "ipython",
    "version": 3
   },
   "file_extension": ".py",
   "mimetype": "text/x-python",
   "name": "python",
   "nbconvert_exporter": "python",
   "pygments_lexer": "ipython3",
   "version": "3.7.6"
  }
 },
 "nbformat": 4,
 "nbformat_minor": 4
}
